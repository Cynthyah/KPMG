{
 "cells": [
  {
   "cell_type": "markdown",
   "id": "dd98bfb5-a696-4da9-8551-8b45feb37276",
   "metadata": {
    "tags": []
   },
   "source": [
    "# Project - Sprocket Central Pty Ltd"
   ]
  },
  {
   "cell_type": "markdown",
   "id": "8011732e-fcac-4b70-8f1e-a7ffb875004b",
   "metadata": {},
   "source": [
    "## Task 1 - Identify the data quality issues and how this may impact our analysis going forward\n",
    "\n",
    "The first Step of ETL will be done observing the Standard Data Quality Dimensions\n",
    "- Accuracy\n",
    "- Completeness\n",
    "- Consistency \n",
    "- Validity\n",
    "- Uniqueness"
   ]
  },
  {
   "cell_type": "markdown",
   "id": "763bf3c0-bab1-463c-b324-bc3977247a97",
   "metadata": {},
   "source": [
    "#### 1) Loading and Understanding the dataset\n",
    "\n",
    "You decide to start the preliminary data exploration and identify ways to improve the quality of Sprocket Central Pty Ltd’s data."
   ]
  },
  {
   "cell_type": "code",
   "execution_count": 48,
   "id": "1301e018-28b7-4ebd-8881-c9bad7bce723",
   "metadata": {
    "tags": []
   },
   "outputs": [],
   "source": [
    "# import libraries\n",
    "import pandas as pd\n",
    "import matplotlib.pyplot as plt\n",
    "import missingno\n",
    "from datetime import datetime\n",
    "import numpy as np"
   ]
  },
  {
   "cell_type": "markdown",
   "id": "1bbf2f83-7559-43df-8c47-5844df82238d",
   "metadata": {
    "tags": []
   },
   "source": [
    "#### a) Customer Demographic and Addresses"
   ]
  },
  {
   "cell_type": "markdown",
   "id": "82251654-20c8-49af-b563-3a89c00d6958",
   "metadata": {},
   "source": [
    "#### Loading the customer demographic and address"
   ]
  },
  {
   "cell_type": "code",
   "execution_count": 88,
   "id": "7ab92ce1-44b3-4e8e-980d-1bf59d4b12b4",
   "metadata": {
    "tags": []
   },
   "outputs": [
    {
     "name": "stdout",
     "output_type": "stream",
     "text": [
      "Total customer: 4000\n",
      "Total customer´s address: 3999\n"
     ]
    },
    {
     "data": {
      "text/html": [
       "<div>\n",
       "<style scoped>\n",
       "    .dataframe tbody tr th:only-of-type {\n",
       "        vertical-align: middle;\n",
       "    }\n",
       "\n",
       "    .dataframe tbody tr th {\n",
       "        vertical-align: top;\n",
       "    }\n",
       "\n",
       "    .dataframe thead th {\n",
       "        text-align: right;\n",
       "    }\n",
       "</style>\n",
       "<table border=\"1\" class=\"dataframe\">\n",
       "  <thead>\n",
       "    <tr style=\"text-align: right;\">\n",
       "      <th></th>\n",
       "      <th>first_name</th>\n",
       "      <th>last_name</th>\n",
       "      <th>gender</th>\n",
       "      <th>past_3_years_bike_related_purchases</th>\n",
       "      <th>DOB</th>\n",
       "      <th>job_title</th>\n",
       "      <th>job_industry_category</th>\n",
       "      <th>wealth_segment</th>\n",
       "      <th>deceased_indicator</th>\n",
       "      <th>default</th>\n",
       "      <th>owns_car</th>\n",
       "      <th>tenure</th>\n",
       "      <th>address</th>\n",
       "      <th>postcode</th>\n",
       "      <th>state</th>\n",
       "      <th>country</th>\n",
       "      <th>property_valuation</th>\n",
       "    </tr>\n",
       "    <tr>\n",
       "      <th>customer_id</th>\n",
       "      <th></th>\n",
       "      <th></th>\n",
       "      <th></th>\n",
       "      <th></th>\n",
       "      <th></th>\n",
       "      <th></th>\n",
       "      <th></th>\n",
       "      <th></th>\n",
       "      <th></th>\n",
       "      <th></th>\n",
       "      <th></th>\n",
       "      <th></th>\n",
       "      <th></th>\n",
       "      <th></th>\n",
       "      <th></th>\n",
       "      <th></th>\n",
       "      <th></th>\n",
       "    </tr>\n",
       "  </thead>\n",
       "  <tbody>\n",
       "    <tr>\n",
       "      <th>1</th>\n",
       "      <td>Laraine</td>\n",
       "      <td>Medendorp</td>\n",
       "      <td>F</td>\n",
       "      <td>93</td>\n",
       "      <td>1953-10-12</td>\n",
       "      <td>Executive Secretary</td>\n",
       "      <td>Health</td>\n",
       "      <td>Mass Customer</td>\n",
       "      <td>N</td>\n",
       "      <td>\"'</td>\n",
       "      <td>Yes</td>\n",
       "      <td>11.0</td>\n",
       "      <td>060 Morning Avenue</td>\n",
       "      <td>2016</td>\n",
       "      <td>New South Wales</td>\n",
       "      <td>Australia</td>\n",
       "      <td>10</td>\n",
       "    </tr>\n",
       "    <tr>\n",
       "      <th>2</th>\n",
       "      <td>Eli</td>\n",
       "      <td>Bockman</td>\n",
       "      <td>Male</td>\n",
       "      <td>81</td>\n",
       "      <td>1980-12-16</td>\n",
       "      <td>Administrative Officer</td>\n",
       "      <td>Financial Services</td>\n",
       "      <td>Mass Customer</td>\n",
       "      <td>N</td>\n",
       "      <td>&lt;script&gt;alert('hi')&lt;/script&gt;</td>\n",
       "      <td>Yes</td>\n",
       "      <td>16.0</td>\n",
       "      <td>6 Meadow Vale Court</td>\n",
       "      <td>2153</td>\n",
       "      <td>New South Wales</td>\n",
       "      <td>Australia</td>\n",
       "      <td>10</td>\n",
       "    </tr>\n",
       "    <tr>\n",
       "      <th>4</th>\n",
       "      <td>Talbot</td>\n",
       "      <td>NaN</td>\n",
       "      <td>Male</td>\n",
       "      <td>33</td>\n",
       "      <td>1961-10-03</td>\n",
       "      <td>NaN</td>\n",
       "      <td>IT</td>\n",
       "      <td>Mass Customer</td>\n",
       "      <td>N</td>\n",
       "      <td>() { _; } &gt;_[$($())] { touch /tmp/blns.shellsh...</td>\n",
       "      <td>No</td>\n",
       "      <td>7.0</td>\n",
       "      <td>0 Holy Cross Court</td>\n",
       "      <td>4211</td>\n",
       "      <td>QLD</td>\n",
       "      <td>Australia</td>\n",
       "      <td>9</td>\n",
       "    </tr>\n",
       "    <tr>\n",
       "      <th>5</th>\n",
       "      <td>Sheila-kathryn</td>\n",
       "      <td>Calton</td>\n",
       "      <td>Female</td>\n",
       "      <td>56</td>\n",
       "      <td>1977-05-13</td>\n",
       "      <td>Senior Editor</td>\n",
       "      <td>NaN</td>\n",
       "      <td>Affluent Customer</td>\n",
       "      <td>N</td>\n",
       "      <td>NIL</td>\n",
       "      <td>Yes</td>\n",
       "      <td>8.0</td>\n",
       "      <td>17979 Del Mar Point</td>\n",
       "      <td>2448</td>\n",
       "      <td>New South Wales</td>\n",
       "      <td>Australia</td>\n",
       "      <td>4</td>\n",
       "    </tr>\n",
       "    <tr>\n",
       "      <th>6</th>\n",
       "      <td>Curr</td>\n",
       "      <td>Duckhouse</td>\n",
       "      <td>Male</td>\n",
       "      <td>35</td>\n",
       "      <td>1966-09-16</td>\n",
       "      <td>NaN</td>\n",
       "      <td>Retail</td>\n",
       "      <td>High Net Worth</td>\n",
       "      <td>N</td>\n",
       "      <td>ðµ ð ð ð</td>\n",
       "      <td>Yes</td>\n",
       "      <td>13.0</td>\n",
       "      <td>9 Oakridge Court</td>\n",
       "      <td>3216</td>\n",
       "      <td>VIC</td>\n",
       "      <td>Australia</td>\n",
       "      <td>9</td>\n",
       "    </tr>\n",
       "    <tr>\n",
       "      <th>...</th>\n",
       "      <td>...</td>\n",
       "      <td>...</td>\n",
       "      <td>...</td>\n",
       "      <td>...</td>\n",
       "      <td>...</td>\n",
       "      <td>...</td>\n",
       "      <td>...</td>\n",
       "      <td>...</td>\n",
       "      <td>...</td>\n",
       "      <td>...</td>\n",
       "      <td>...</td>\n",
       "      <td>...</td>\n",
       "      <td>...</td>\n",
       "      <td>...</td>\n",
       "      <td>...</td>\n",
       "      <td>...</td>\n",
       "      <td>...</td>\n",
       "    </tr>\n",
       "    <tr>\n",
       "      <th>3996</th>\n",
       "      <td>Rosalia</td>\n",
       "      <td>Halgarth</td>\n",
       "      <td>Female</td>\n",
       "      <td>8</td>\n",
       "      <td>1975-08-09</td>\n",
       "      <td>VP Product Management</td>\n",
       "      <td>Health</td>\n",
       "      <td>Mass Customer</td>\n",
       "      <td>N</td>\n",
       "      <td>-100</td>\n",
       "      <td>No</td>\n",
       "      <td>19.0</td>\n",
       "      <td>0 Transport Center</td>\n",
       "      <td>3977</td>\n",
       "      <td>VIC</td>\n",
       "      <td>Australia</td>\n",
       "      <td>6</td>\n",
       "    </tr>\n",
       "    <tr>\n",
       "      <th>3997</th>\n",
       "      <td>Blanch</td>\n",
       "      <td>Nisuis</td>\n",
       "      <td>Female</td>\n",
       "      <td>87</td>\n",
       "      <td>2001-07-13</td>\n",
       "      <td>Statistician II</td>\n",
       "      <td>Manufacturing</td>\n",
       "      <td>High Net Worth</td>\n",
       "      <td>N</td>\n",
       "      <td>â¦testâ§</td>\n",
       "      <td>Yes</td>\n",
       "      <td>1.0</td>\n",
       "      <td>4 Dovetail Crossing</td>\n",
       "      <td>2350</td>\n",
       "      <td>NSW</td>\n",
       "      <td>Australia</td>\n",
       "      <td>2</td>\n",
       "    </tr>\n",
       "    <tr>\n",
       "      <th>3998</th>\n",
       "      <td>Sarene</td>\n",
       "      <td>Woolley</td>\n",
       "      <td>U</td>\n",
       "      <td>60</td>\n",
       "      <td>NaT</td>\n",
       "      <td>Assistant Manager</td>\n",
       "      <td>IT</td>\n",
       "      <td>High Net Worth</td>\n",
       "      <td>N</td>\n",
       "      <td>NaN</td>\n",
       "      <td>No</td>\n",
       "      <td>NaN</td>\n",
       "      <td>736 Roxbury Junction</td>\n",
       "      <td>2540</td>\n",
       "      <td>NSW</td>\n",
       "      <td>Australia</td>\n",
       "      <td>6</td>\n",
       "    </tr>\n",
       "    <tr>\n",
       "      <th>3999</th>\n",
       "      <td>Patrizius</td>\n",
       "      <td>NaN</td>\n",
       "      <td>Male</td>\n",
       "      <td>11</td>\n",
       "      <td>1973-10-24</td>\n",
       "      <td>NaN</td>\n",
       "      <td>Manufacturing</td>\n",
       "      <td>Affluent Customer</td>\n",
       "      <td>N</td>\n",
       "      <td>Â¡â¢Â£Â¢âÂ§Â¶â¢ÂªÂºââ</td>\n",
       "      <td>Yes</td>\n",
       "      <td>10.0</td>\n",
       "      <td>1482 Hauk Trail</td>\n",
       "      <td>3064</td>\n",
       "      <td>VIC</td>\n",
       "      <td>Australia</td>\n",
       "      <td>3</td>\n",
       "    </tr>\n",
       "    <tr>\n",
       "      <th>4000</th>\n",
       "      <td>Kippy</td>\n",
       "      <td>Oldland</td>\n",
       "      <td>Male</td>\n",
       "      <td>76</td>\n",
       "      <td>1991-11-05</td>\n",
       "      <td>Software Engineer IV</td>\n",
       "      <td>NaN</td>\n",
       "      <td>Affluent Customer</td>\n",
       "      <td>N</td>\n",
       "      <td>0/0</td>\n",
       "      <td>No</td>\n",
       "      <td>11.0</td>\n",
       "      <td>57042 Village Green Point</td>\n",
       "      <td>4511</td>\n",
       "      <td>QLD</td>\n",
       "      <td>Australia</td>\n",
       "      <td>6</td>\n",
       "    </tr>\n",
       "  </tbody>\n",
       "</table>\n",
       "<p>3996 rows × 17 columns</p>\n",
       "</div>"
      ],
      "text/plain": [
       "                 first_name  last_name  gender  \\\n",
       "customer_id                                      \n",
       "1                   Laraine  Medendorp       F   \n",
       "2                       Eli    Bockman    Male   \n",
       "4                    Talbot        NaN    Male   \n",
       "5            Sheila-kathryn     Calton  Female   \n",
       "6                      Curr  Duckhouse    Male   \n",
       "...                     ...        ...     ...   \n",
       "3996                Rosalia   Halgarth  Female   \n",
       "3997                 Blanch     Nisuis  Female   \n",
       "3998                 Sarene    Woolley       U   \n",
       "3999              Patrizius        NaN    Male   \n",
       "4000                  Kippy    Oldland    Male   \n",
       "\n",
       "             past_3_years_bike_related_purchases        DOB  \\\n",
       "customer_id                                                   \n",
       "1                                             93 1953-10-12   \n",
       "2                                             81 1980-12-16   \n",
       "4                                             33 1961-10-03   \n",
       "5                                             56 1977-05-13   \n",
       "6                                             35 1966-09-16   \n",
       "...                                          ...        ...   \n",
       "3996                                           8 1975-08-09   \n",
       "3997                                          87 2001-07-13   \n",
       "3998                                          60        NaT   \n",
       "3999                                          11 1973-10-24   \n",
       "4000                                          76 1991-11-05   \n",
       "\n",
       "                          job_title job_industry_category     wealth_segment  \\\n",
       "customer_id                                                                    \n",
       "1               Executive Secretary                Health      Mass Customer   \n",
       "2            Administrative Officer    Financial Services      Mass Customer   \n",
       "4                               NaN                    IT      Mass Customer   \n",
       "5                     Senior Editor                   NaN  Affluent Customer   \n",
       "6                               NaN                Retail     High Net Worth   \n",
       "...                             ...                   ...                ...   \n",
       "3996          VP Product Management                Health      Mass Customer   \n",
       "3997                Statistician II         Manufacturing     High Net Worth   \n",
       "3998              Assistant Manager                    IT     High Net Worth   \n",
       "3999                            NaN         Manufacturing  Affluent Customer   \n",
       "4000           Software Engineer IV                   NaN  Affluent Customer   \n",
       "\n",
       "            deceased_indicator  \\\n",
       "customer_id                      \n",
       "1                            N   \n",
       "2                            N   \n",
       "4                            N   \n",
       "5                            N   \n",
       "6                            N   \n",
       "...                        ...   \n",
       "3996                         N   \n",
       "3997                         N   \n",
       "3998                         N   \n",
       "3999                         N   \n",
       "4000                         N   \n",
       "\n",
       "                                                       default owns_car  \\\n",
       "customer_id                                                               \n",
       "1                                                           \"'      Yes   \n",
       "2                                 <script>alert('hi')</script>      Yes   \n",
       "4            () { _; } >_[$($())] { touch /tmp/blns.shellsh...       No   \n",
       "5                                                          NIL      Yes   \n",
       "6                                                     ðµ ð ð ð      Yes   \n",
       "...                                                        ...      ...   \n",
       "3996                                                      -100       No   \n",
       "3997                                                  â¦testâ§      Yes   \n",
       "3998                                                       NaN       No   \n",
       "3999                                    Â¡â¢Â£Â¢âÂ§Â¶â¢ÂªÂºââ       Yes   \n",
       "4000                                                       0/0       No   \n",
       "\n",
       "             tenure                    address  postcode            state  \\\n",
       "customer_id                                                                 \n",
       "1              11.0         060 Morning Avenue      2016  New South Wales   \n",
       "2              16.0        6 Meadow Vale Court      2153  New South Wales   \n",
       "4               7.0         0 Holy Cross Court      4211              QLD   \n",
       "5               8.0        17979 Del Mar Point      2448  New South Wales   \n",
       "6              13.0           9 Oakridge Court      3216              VIC   \n",
       "...             ...                        ...       ...              ...   \n",
       "3996           19.0         0 Transport Center      3977              VIC   \n",
       "3997            1.0        4 Dovetail Crossing      2350              NSW   \n",
       "3998            NaN       736 Roxbury Junction      2540              NSW   \n",
       "3999           10.0            1482 Hauk Trail      3064              VIC   \n",
       "4000           11.0  57042 Village Green Point      4511              QLD   \n",
       "\n",
       "               country  property_valuation  \n",
       "customer_id                                 \n",
       "1            Australia                  10  \n",
       "2            Australia                  10  \n",
       "4            Australia                   9  \n",
       "5            Australia                   4  \n",
       "6            Australia                   9  \n",
       "...                ...                 ...  \n",
       "3996         Australia                   6  \n",
       "3997         Australia                   2  \n",
       "3998         Australia                   6  \n",
       "3999         Australia                   3  \n",
       "4000         Australia                   6  \n",
       "\n",
       "[3996 rows x 17 columns]"
      ]
     },
     "execution_count": 88,
     "metadata": {},
     "output_type": "execute_result"
    }
   ],
   "source": [
    "# Loading the customer demographic\n",
    "df_customer_demog = pd.read_excel('Files/KPMG_VI_New_raw_data_update_final.xlsx', sheet_name=3, header=1, usecols='A:M')\n",
    "print(f'Total customer: {len(df_customer_demog)}')\n",
    "\n",
    "# Loading the customer address\n",
    "df_customer_address = pd.read_excel('Files/KPMG_VI_New_raw_data_update_final.xlsx', sheet_name=4, header=1, usecols='A:F')\n",
    "print(f'Total customer´s address: {len(df_customer_address)}')\n",
    "\n",
    "# merge info from customer\n",
    "df_customer = pd.merge(df_customer_demog,df_customer_address, how='inner', on='customer_id')\n",
    "df_customer.set_index('customer_id')\n"
   ]
  },
  {
   "cell_type": "code",
   "execution_count": 50,
   "id": "fe708aba-16d6-4f40-a708-6756f395f5c8",
   "metadata": {},
   "outputs": [
    {
     "data": {
      "text/plain": [
       "(3996, 18)"
      ]
     },
     "execution_count": 50,
     "metadata": {},
     "output_type": "execute_result"
    }
   ],
   "source": [
    "# show after merge only customer with address\n",
    "df_customer.shape"
   ]
  },
  {
   "cell_type": "code",
   "execution_count": 51,
   "id": "d54f200b-502d-4e73-be29-36f624bb92c2",
   "metadata": {},
   "outputs": [
    {
     "name": "stdout",
     "output_type": "stream",
     "text": [
      "<class 'pandas.core.frame.DataFrame'>\n",
      "Int64Index: 3996 entries, 0 to 3995\n",
      "Data columns (total 18 columns):\n",
      " #   Column                               Non-Null Count  Dtype         \n",
      "---  ------                               --------------  -----         \n",
      " 0   customer_id                          3996 non-null   int64         \n",
      " 1   first_name                           3996 non-null   object        \n",
      " 2   last_name                            3871 non-null   object        \n",
      " 3   gender                               3996 non-null   object        \n",
      " 4   past_3_years_bike_related_purchases  3996 non-null   int64         \n",
      " 5   DOB                                  3909 non-null   datetime64[ns]\n",
      " 6   job_title                            3492 non-null   object        \n",
      " 7   job_industry_category                3341 non-null   object        \n",
      " 8   wealth_segment                       3996 non-null   object        \n",
      " 9   deceased_indicator                   3996 non-null   object        \n",
      " 10  default                              3694 non-null   object        \n",
      " 11  owns_car                             3996 non-null   object        \n",
      " 12  tenure                               3909 non-null   float64       \n",
      " 13  address                              3996 non-null   object        \n",
      " 14  postcode                             3996 non-null   int64         \n",
      " 15  state                                3996 non-null   object        \n",
      " 16  country                              3996 non-null   object        \n",
      " 17  property_valuation                   3996 non-null   int64         \n",
      "dtypes: datetime64[ns](1), float64(1), int64(4), object(12)\n",
      "memory usage: 593.2+ KB\n"
     ]
    }
   ],
   "source": [
    "df_customer.info()"
   ]
  },
  {
   "cell_type": "code",
   "execution_count": 52,
   "id": "af97e9a2-84d2-4bbb-85aa-6e1364a06edd",
   "metadata": {},
   "outputs": [
    {
     "data": {
      "text/plain": [
       "customer_id                             0.000000\n",
       "first_name                              0.000000\n",
       "last_name                               3.128128\n",
       "gender                                  0.000000\n",
       "past_3_years_bike_related_purchases     0.000000\n",
       "DOB                                     2.177177\n",
       "job_title                              12.612613\n",
       "job_industry_category                  16.391391\n",
       "wealth_segment                          0.000000\n",
       "deceased_indicator                      0.000000\n",
       "default                                 7.557558\n",
       "owns_car                                0.000000\n",
       "tenure                                  2.177177\n",
       "address                                 0.000000\n",
       "postcode                                0.000000\n",
       "state                                   0.000000\n",
       "country                                 0.000000\n",
       "property_valuation                      0.000000\n",
       "dtype: float64"
      ]
     },
     "execution_count": 52,
     "metadata": {},
     "output_type": "execute_result"
    }
   ],
   "source": [
    "# % of columns without values\n",
    "df_customer.isna().sum() / len(df_customer) * 100"
   ]
  },
  {
   "cell_type": "code",
   "execution_count": 53,
   "id": "a899e9eb-7c95-409d-8d30-45b034099da4",
   "metadata": {
    "tags": []
   },
   "outputs": [],
   "source": [
    "# let´s check the age of customers\n",
    "now = pd.Timestamp('now')\n",
    "df_customer['age'] = (now - df_customer['DOB']).astype('<m8[Y]')    \n",
    "# creating a group of age\n",
    "df_customer['group_age'] = np.floor(df_customer['age'] / 10) *10"
   ]
  },
  {
   "cell_type": "markdown",
   "id": "bb28723d-e1ca-48d6-8651-399c84046bab",
   "metadata": {
    "tags": []
   },
   "source": [
    "#### Cleaning/Transforming some data from df_customer"
   ]
  },
  {
   "cell_type": "code",
   "execution_count": 54,
   "id": "2363c3ab-2108-4d66-8f40-d97126bb97ea",
   "metadata": {},
   "outputs": [
    {
     "data": {
      "text/plain": [
       "array(['F', 'Male', 'Female', 'U', 'Femal', 'M'], dtype=object)"
      ]
     },
     "execution_count": 54,
     "metadata": {},
     "output_type": "execute_result"
    }
   ],
   "source": [
    "# Let´s check the genders\n",
    "df_customer.gender.unique()"
   ]
  },
  {
   "cell_type": "code",
   "execution_count": 55,
   "id": "d41233c6-8bac-4888-b150-df351422ae87",
   "metadata": {},
   "outputs": [],
   "source": [
    "# let´s standardize genders\n",
    "df_customer['gender'] = df_customer['gender'].map({'F':'Female','Femal':'Female','Female':'Female','M':'Male','Male':'Male','U':'Unknown'})"
   ]
  },
  {
   "cell_type": "code",
   "execution_count": 56,
   "id": "2f3bba21-6078-4d4e-8d07-1cbfd568263e",
   "metadata": {},
   "outputs": [
    {
     "data": {
      "text/plain": [
       "array(['New South Wales', 'QLD', 'VIC', 'NSW', 'Victoria'], dtype=object)"
      ]
     },
     "execution_count": 56,
     "metadata": {},
     "output_type": "execute_result"
    }
   ],
   "source": [
    "# Let´s check the states\n",
    "df_customer.state.unique()"
   ]
  },
  {
   "cell_type": "code",
   "execution_count": 57,
   "id": "9284ff2c-b415-4a34-bf98-b35ff0462bbb",
   "metadata": {},
   "outputs": [],
   "source": [
    "# let´s standardize the states\n",
    "df_customer['state'] = df_customer['state'].map({'NSW':'NSW', 'New South Wales':'NSW','QLD':'QLD','Victoria':'VIC','VIC':'VIC'})"
   ]
  },
  {
   "cell_type": "code",
   "execution_count": 58,
   "id": "591b075b-5f39-475c-803d-58b1cfa01515",
   "metadata": {},
   "outputs": [
    {
     "data": {
      "text/html": [
       "<div>\n",
       "<style scoped>\n",
       "    .dataframe tbody tr th:only-of-type {\n",
       "        vertical-align: middle;\n",
       "    }\n",
       "\n",
       "    .dataframe tbody tr th {\n",
       "        vertical-align: top;\n",
       "    }\n",
       "\n",
       "    .dataframe thead th {\n",
       "        text-align: right;\n",
       "    }\n",
       "</style>\n",
       "<table border=\"1\" class=\"dataframe\">\n",
       "  <thead>\n",
       "    <tr style=\"text-align: right;\">\n",
       "      <th></th>\n",
       "      <th>customer_id</th>\n",
       "      <th>first_name</th>\n",
       "      <th>last_name</th>\n",
       "      <th>gender</th>\n",
       "      <th>past_3_years_bike_related_purchases</th>\n",
       "      <th>DOB</th>\n",
       "      <th>job_title</th>\n",
       "      <th>job_industry_category</th>\n",
       "      <th>wealth_segment</th>\n",
       "      <th>deceased_indicator</th>\n",
       "      <th>default</th>\n",
       "      <th>owns_car</th>\n",
       "      <th>tenure</th>\n",
       "      <th>address</th>\n",
       "      <th>postcode</th>\n",
       "      <th>state</th>\n",
       "      <th>country</th>\n",
       "      <th>property_valuation</th>\n",
       "      <th>age</th>\n",
       "      <th>group_age</th>\n",
       "    </tr>\n",
       "  </thead>\n",
       "  <tbody>\n",
       "    <tr>\n",
       "      <th>29</th>\n",
       "      <td>34</td>\n",
       "      <td>Jephthah</td>\n",
       "      <td>Bachmann</td>\n",
       "      <td>Unknown</td>\n",
       "      <td>59</td>\n",
       "      <td>1843-12-21</td>\n",
       "      <td>Legal Assistant</td>\n",
       "      <td>IT</td>\n",
       "      <td>Affluent Customer</td>\n",
       "      <td>N</td>\n",
       "      <td>NaN</td>\n",
       "      <td>No</td>\n",
       "      <td>20.0</td>\n",
       "      <td>833 Luster Way</td>\n",
       "      <td>4005</td>\n",
       "      <td>QLD</td>\n",
       "      <td>Australia</td>\n",
       "      <td>8</td>\n",
       "      <td>177.0</td>\n",
       "      <td>170.0</td>\n",
       "    </tr>\n",
       "  </tbody>\n",
       "</table>\n",
       "</div>"
      ],
      "text/plain": [
       "    customer_id first_name last_name   gender  \\\n",
       "29           34   Jephthah  Bachmann  Unknown   \n",
       "\n",
       "    past_3_years_bike_related_purchases        DOB        job_title  \\\n",
       "29                                   59 1843-12-21  Legal Assistant   \n",
       "\n",
       "   job_industry_category     wealth_segment deceased_indicator default  \\\n",
       "29                    IT  Affluent Customer                  N     NaN   \n",
       "\n",
       "   owns_car  tenure         address  postcode state    country  \\\n",
       "29       No    20.0  833 Luster Way      4005   QLD  Australia   \n",
       "\n",
       "    property_valuation    age  group_age  \n",
       "29                   8  177.0      170.0  "
      ]
     },
     "execution_count": 58,
     "metadata": {},
     "output_type": "execute_result"
    }
   ],
   "source": [
    "# Is any customer´s age more than 120 years old \n",
    "df_customer[df_customer['age'] > 120]"
   ]
  },
  {
   "cell_type": "code",
   "execution_count": 59,
   "id": "a8798a79-d481-4172-9da7-33fc0a3a7681",
   "metadata": {},
   "outputs": [],
   "source": [
    "# Let´s drop the age more than 120\n",
    "df_customer.drop(df_customer[df_customer['age'] > 120].index, inplace=True)\n",
    "\n",
    "# drop column default that are with no relevant information and deceased_indicator that are all set with 'N' \n",
    "df_customer.drop(['default','deceased_indicator'], axis=1, inplace=True)"
   ]
  },
  {
   "cell_type": "code",
   "execution_count": 60,
   "id": "eddc023c-d820-476a-af40-1e30ac37760b",
   "metadata": {},
   "outputs": [
    {
     "data": {
      "text/plain": [
       "(3995, 18)"
      ]
     },
     "execution_count": 60,
     "metadata": {},
     "output_type": "execute_result"
    }
   ],
   "source": [
    "df_customer.shape"
   ]
  },
  {
   "cell_type": "code",
   "execution_count": 61,
   "id": "d76c4a99-dcff-41c0-883f-bb904ef05c1c",
   "metadata": {},
   "outputs": [
    {
     "data": {
      "text/plain": [
       "<AxesSubplot:>"
      ]
     },
     "execution_count": 61,
     "metadata": {},
     "output_type": "execute_result"
    },
    {
     "data": {
      "image/png": "[encoded data removed]",
      "text/plain": [
       "<Figure size 2160x720 with 2 Axes>"
      ]
     },
     "metadata": {
      "needs_background": "light"
     },
     "output_type": "display_data"
    }
   ],
   "source": [
    "# visualizing if it has null values\n",
    "missingno.matrix(df_customer, figsize=(30,10))"
   ]
  },
  {
   "cell_type": "markdown",
   "id": "eedd3f46-018d-4b6f-8a10-0f8197817bd7",
   "metadata": {},
   "source": [
    "## *Information checked from Customer*\n",
    "- We have 3 customer(4001,4002,4003) with no basic information in Customer Demographic dataset(name, age, job...) so they will be ignored\n",
    "- Some fields are empty as last name, dob, job, tenure.\n",
    "- Found 1 customer with 177 years old, so it will be ignored\n",
    "- We have 1 field called default and  that has no relevant information, so it will be ignored\n",
    "- The field(column) State and gender have some inconsistency. Same type with different names. \n",
    "\n",
    "    For example: Gender: Male/M, Female/F/Femal, U and  \n",
    "                 State: New South Wales/NSW, Victoria/VIC"
   ]
  },
  {
   "cell_type": "markdown",
   "id": "f4b231aa-878e-48a2-bace-c7203a07a09b",
   "metadata": {},
   "source": [
    "#### b) Customer Transactions"
   ]
  },
  {
   "cell_type": "markdown",
   "id": "7b6c2686-fec2-4b5f-aec7-c6aff5e13b26",
   "metadata": {},
   "source": [
    "#### Loading the customer transactions"
   ]
  },
  {
   "cell_type": "code",
   "execution_count": 62,
   "id": "64960524-1f85-46f6-bae4-40e8a6fe3de5",
   "metadata": {
    "tags": []
   },
   "outputs": [],
   "source": [
    "# the column N is ignored - is empty\n",
    "df_customer_trans = pd.read_excel('Files/KPMG_VI_New_raw_data_update_final.xlsx', sheet_name=1, header=1, usecols='A:M')"
   ]
  },
  {
   "cell_type": "code",
   "execution_count": 63,
   "id": "7294ca68-3077-44a8-acc0-42bf1ff52869",
   "metadata": {},
   "outputs": [
    {
     "data": {
      "text/plain": [
       "(20000, 13)"
      ]
     },
     "execution_count": 63,
     "metadata": {},
     "output_type": "execute_result"
    }
   ],
   "source": [
    "df_customer_trans.shape"
   ]
  },
  {
   "cell_type": "code",
   "execution_count": 64,
   "id": "211fa146-1685-4094-adc7-eebbf65233df",
   "metadata": {},
   "outputs": [
    {
     "name": "stdout",
     "output_type": "stream",
     "text": [
      "<class 'pandas.core.frame.DataFrame'>\n",
      "RangeIndex: 20000 entries, 0 to 19999\n",
      "Data columns (total 13 columns):\n",
      " #   Column                   Non-Null Count  Dtype         \n",
      "---  ------                   --------------  -----         \n",
      " 0   transaction_id           20000 non-null  int64         \n",
      " 1   product_id               20000 non-null  int64         \n",
      " 2   customer_id              20000 non-null  int64         \n",
      " 3   transaction_date         20000 non-null  datetime64[ns]\n",
      " 4   online_order             19640 non-null  float64       \n",
      " 5   order_status             20000 non-null  object        \n",
      " 6   brand                    19803 non-null  object        \n",
      " 7   product_line             19803 non-null  object        \n",
      " 8   product_class            19803 non-null  object        \n",
      " 9   product_size             19803 non-null  object        \n",
      " 10  list_price               20000 non-null  float64       \n",
      " 11  standard_cost            19803 non-null  float64       \n",
      " 12  product_first_sold_date  19803 non-null  float64       \n",
      "dtypes: datetime64[ns](1), float64(4), int64(3), object(5)\n",
      "memory usage: 2.0+ MB\n"
     ]
    }
   ],
   "source": [
    "df_customer_trans.info()"
   ]
  },
  {
   "cell_type": "code",
   "execution_count": 65,
   "id": "52b5ee1b-2f9f-477b-b2fc-1e01decc3e5b",
   "metadata": {},
   "outputs": [
    {
     "data": {
      "text/plain": [
       "transaction_id             0.000\n",
       "product_id                 0.000\n",
       "customer_id                0.000\n",
       "transaction_date           0.000\n",
       "online_order               1.800\n",
       "order_status               0.000\n",
       "brand                      0.985\n",
       "product_line               0.985\n",
       "product_class              0.985\n",
       "product_size               0.985\n",
       "list_price                 0.000\n",
       "standard_cost              0.985\n",
       "product_first_sold_date    0.985\n",
       "dtype: float64"
      ]
     },
     "execution_count": 65,
     "metadata": {},
     "output_type": "execute_result"
    }
   ],
   "source": [
    "# % of columns without values\n",
    "df_customer_trans.isna().sum() / len(df_customer_trans) * 100"
   ]
  },
  {
   "cell_type": "code",
   "execution_count": 66,
   "id": "6c1a7e17-61e4-4a01-8684-fcde7c762155",
   "metadata": {},
   "outputs": [
    {
     "data": {
      "text/html": [
       "<div>\n",
       "<style scoped>\n",
       "    .dataframe tbody tr th:only-of-type {\n",
       "        vertical-align: middle;\n",
       "    }\n",
       "\n",
       "    .dataframe tbody tr th {\n",
       "        vertical-align: top;\n",
       "    }\n",
       "\n",
       "    .dataframe thead th {\n",
       "        text-align: right;\n",
       "    }\n",
       "</style>\n",
       "<table border=\"1\" class=\"dataframe\">\n",
       "  <thead>\n",
       "    <tr style=\"text-align: right;\">\n",
       "      <th></th>\n",
       "      <th>transaction_id</th>\n",
       "      <th>product_id</th>\n",
       "      <th>customer_id</th>\n",
       "      <th>transaction_date</th>\n",
       "      <th>online_order</th>\n",
       "      <th>order_status</th>\n",
       "      <th>brand</th>\n",
       "      <th>product_line</th>\n",
       "      <th>product_class</th>\n",
       "      <th>product_size</th>\n",
       "      <th>list_price</th>\n",
       "      <th>standard_cost</th>\n",
       "      <th>product_first_sold_date</th>\n",
       "    </tr>\n",
       "  </thead>\n",
       "  <tbody>\n",
       "    <tr>\n",
       "      <th>0</th>\n",
       "      <td>1</td>\n",
       "      <td>2</td>\n",
       "      <td>2950</td>\n",
       "      <td>2017-02-25</td>\n",
       "      <td>0.0</td>\n",
       "      <td>Approved</td>\n",
       "      <td>Solex</td>\n",
       "      <td>Standard</td>\n",
       "      <td>medium</td>\n",
       "      <td>medium</td>\n",
       "      <td>71.49</td>\n",
       "      <td>53.62</td>\n",
       "      <td>41245.0</td>\n",
       "    </tr>\n",
       "    <tr>\n",
       "      <th>1</th>\n",
       "      <td>2</td>\n",
       "      <td>3</td>\n",
       "      <td>3120</td>\n",
       "      <td>2017-05-21</td>\n",
       "      <td>1.0</td>\n",
       "      <td>Approved</td>\n",
       "      <td>Trek Bicycles</td>\n",
       "      <td>Standard</td>\n",
       "      <td>medium</td>\n",
       "      <td>large</td>\n",
       "      <td>2091.47</td>\n",
       "      <td>388.92</td>\n",
       "      <td>41701.0</td>\n",
       "    </tr>\n",
       "    <tr>\n",
       "      <th>2</th>\n",
       "      <td>3</td>\n",
       "      <td>37</td>\n",
       "      <td>402</td>\n",
       "      <td>2017-10-16</td>\n",
       "      <td>0.0</td>\n",
       "      <td>Approved</td>\n",
       "      <td>OHM Cycles</td>\n",
       "      <td>Standard</td>\n",
       "      <td>low</td>\n",
       "      <td>medium</td>\n",
       "      <td>1793.43</td>\n",
       "      <td>248.82</td>\n",
       "      <td>36361.0</td>\n",
       "    </tr>\n",
       "    <tr>\n",
       "      <th>3</th>\n",
       "      <td>4</td>\n",
       "      <td>88</td>\n",
       "      <td>3135</td>\n",
       "      <td>2017-08-31</td>\n",
       "      <td>0.0</td>\n",
       "      <td>Approved</td>\n",
       "      <td>Norco Bicycles</td>\n",
       "      <td>Standard</td>\n",
       "      <td>medium</td>\n",
       "      <td>medium</td>\n",
       "      <td>1198.46</td>\n",
       "      <td>381.10</td>\n",
       "      <td>36145.0</td>\n",
       "    </tr>\n",
       "    <tr>\n",
       "      <th>4</th>\n",
       "      <td>5</td>\n",
       "      <td>78</td>\n",
       "      <td>787</td>\n",
       "      <td>2017-10-01</td>\n",
       "      <td>1.0</td>\n",
       "      <td>Approved</td>\n",
       "      <td>Giant Bicycles</td>\n",
       "      <td>Standard</td>\n",
       "      <td>medium</td>\n",
       "      <td>large</td>\n",
       "      <td>1765.30</td>\n",
       "      <td>709.48</td>\n",
       "      <td>42226.0</td>\n",
       "    </tr>\n",
       "  </tbody>\n",
       "</table>\n",
       "</div>"
      ],
      "text/plain": [
       "   transaction_id  product_id  customer_id transaction_date  online_order  \\\n",
       "0               1           2         2950       2017-02-25           0.0   \n",
       "1               2           3         3120       2017-05-21           1.0   \n",
       "2               3          37          402       2017-10-16           0.0   \n",
       "3               4          88         3135       2017-08-31           0.0   \n",
       "4               5          78          787       2017-10-01           1.0   \n",
       "\n",
       "  order_status           brand product_line product_class product_size  \\\n",
       "0     Approved           Solex     Standard        medium       medium   \n",
       "1     Approved   Trek Bicycles     Standard        medium        large   \n",
       "2     Approved      OHM Cycles     Standard           low       medium   \n",
       "3     Approved  Norco Bicycles     Standard        medium       medium   \n",
       "4     Approved  Giant Bicycles     Standard        medium        large   \n",
       "\n",
       "   list_price  standard_cost  product_first_sold_date  \n",
       "0       71.49          53.62                  41245.0  \n",
       "1     2091.47         388.92                  41701.0  \n",
       "2     1793.43         248.82                  36361.0  \n",
       "3     1198.46         381.10                  36145.0  \n",
       "4     1765.30         709.48                  42226.0  "
      ]
     },
     "execution_count": 66,
     "metadata": {},
     "output_type": "execute_result"
    }
   ],
   "source": [
    "df_customer_trans.head()"
   ]
  },
  {
   "cell_type": "markdown",
   "id": "69fa2e63-b5ea-4ee5-8326-68e2e460442a",
   "metadata": {},
   "source": [
    "#### Cleaning/Transforming some data from df_customer_trans"
   ]
  },
  {
   "cell_type": "code",
   "execution_count": 67,
   "id": "28e8ec69-b3e2-49cb-8e22-b2119305d398",
   "metadata": {},
   "outputs": [
    {
     "data": {
      "text/plain": [
       "array(['Approved', 'Cancelled'], dtype=object)"
      ]
     },
     "execution_count": 67,
     "metadata": {},
     "output_type": "execute_result"
    }
   ],
   "source": [
    "# Let´s check the order_status\n",
    "df_customer_trans.order_status.unique()"
   ]
  },
  {
   "cell_type": "code",
   "execution_count": 68,
   "id": "7ce67490-07d6-44ea-9d49-a0614545f2a4",
   "metadata": {},
   "outputs": [
    {
     "data": {
      "text/plain": [
       "array(['Solex', 'Trek Bicycles', 'OHM Cycles', 'Norco Bicycles',\n",
       "       'Giant Bicycles', 'WeareA2B', nan], dtype=object)"
      ]
     },
     "execution_count": 68,
     "metadata": {},
     "output_type": "execute_result"
    }
   ],
   "source": [
    "# Let´s check the brand\n",
    "df_customer_trans.brand.unique()"
   ]
  },
  {
   "cell_type": "code",
   "execution_count": 69,
   "id": "15f9b519-33d9-4d7e-a280-fe6ad2acb7b1",
   "metadata": {},
   "outputs": [
    {
     "data": {
      "text/plain": [
       "array([ 0.,  1., nan])"
      ]
     },
     "execution_count": 69,
     "metadata": {},
     "output_type": "execute_result"
    }
   ],
   "source": [
    "# Let´s check the online_order\n",
    "df_customer_trans.online_order.unique()"
   ]
  },
  {
   "cell_type": "code",
   "execution_count": 70,
   "id": "fceb020b-47c0-4957-be6e-c76dfc5c639c",
   "metadata": {},
   "outputs": [],
   "source": [
    "# Let´s replace the online_order as 0 - No, 1-Yes, 2-Unknown\n",
    "df_customer_trans['online_order'] = df_customer_trans['online_order'].map({0:0, 1:1, np.nan:2})"
   ]
  },
  {
   "cell_type": "code",
   "execution_count": 71,
   "id": "36881ecb-cf81-4eb7-b1b3-2d0d38aeeb5f",
   "metadata": {},
   "outputs": [
    {
     "data": {
      "text/html": [
       "<div>\n",
       "<style scoped>\n",
       "    .dataframe tbody tr th:only-of-type {\n",
       "        vertical-align: middle;\n",
       "    }\n",
       "\n",
       "    .dataframe tbody tr th {\n",
       "        vertical-align: top;\n",
       "    }\n",
       "\n",
       "    .dataframe thead th {\n",
       "        text-align: right;\n",
       "    }\n",
       "</style>\n",
       "<table border=\"1\" class=\"dataframe\">\n",
       "  <thead>\n",
       "    <tr style=\"text-align: right;\">\n",
       "      <th></th>\n",
       "      <th>transaction_id</th>\n",
       "      <th>product_id</th>\n",
       "      <th>customer_id</th>\n",
       "      <th>transaction_date</th>\n",
       "      <th>online_order</th>\n",
       "      <th>order_status</th>\n",
       "      <th>brand</th>\n",
       "      <th>product_line</th>\n",
       "      <th>product_class</th>\n",
       "      <th>product_size</th>\n",
       "      <th>list_price</th>\n",
       "      <th>standard_cost</th>\n",
       "      <th>product_first_sold_date</th>\n",
       "    </tr>\n",
       "  </thead>\n",
       "  <tbody>\n",
       "    <tr>\n",
       "      <th>136</th>\n",
       "      <td>137</td>\n",
       "      <td>0</td>\n",
       "      <td>431</td>\n",
       "      <td>2017-09-23</td>\n",
       "      <td>0</td>\n",
       "      <td>Approved</td>\n",
       "      <td>NaN</td>\n",
       "      <td>NaN</td>\n",
       "      <td>NaN</td>\n",
       "      <td>NaN</td>\n",
       "      <td>1942.61</td>\n",
       "      <td>NaN</td>\n",
       "      <td>NaN</td>\n",
       "    </tr>\n",
       "    <tr>\n",
       "      <th>159</th>\n",
       "      <td>160</td>\n",
       "      <td>0</td>\n",
       "      <td>3300</td>\n",
       "      <td>2017-08-27</td>\n",
       "      <td>0</td>\n",
       "      <td>Approved</td>\n",
       "      <td>NaN</td>\n",
       "      <td>NaN</td>\n",
       "      <td>NaN</td>\n",
       "      <td>NaN</td>\n",
       "      <td>1656.86</td>\n",
       "      <td>NaN</td>\n",
       "      <td>NaN</td>\n",
       "    </tr>\n",
       "    <tr>\n",
       "      <th>366</th>\n",
       "      <td>367</td>\n",
       "      <td>0</td>\n",
       "      <td>1614</td>\n",
       "      <td>2017-03-10</td>\n",
       "      <td>0</td>\n",
       "      <td>Approved</td>\n",
       "      <td>NaN</td>\n",
       "      <td>NaN</td>\n",
       "      <td>NaN</td>\n",
       "      <td>NaN</td>\n",
       "      <td>850.89</td>\n",
       "      <td>NaN</td>\n",
       "      <td>NaN</td>\n",
       "    </tr>\n",
       "    <tr>\n",
       "      <th>406</th>\n",
       "      <td>407</td>\n",
       "      <td>0</td>\n",
       "      <td>2559</td>\n",
       "      <td>2017-06-14</td>\n",
       "      <td>1</td>\n",
       "      <td>Approved</td>\n",
       "      <td>NaN</td>\n",
       "      <td>NaN</td>\n",
       "      <td>NaN</td>\n",
       "      <td>NaN</td>\n",
       "      <td>710.59</td>\n",
       "      <td>NaN</td>\n",
       "      <td>NaN</td>\n",
       "    </tr>\n",
       "    <tr>\n",
       "      <th>676</th>\n",
       "      <td>677</td>\n",
       "      <td>0</td>\n",
       "      <td>2609</td>\n",
       "      <td>2017-07-02</td>\n",
       "      <td>0</td>\n",
       "      <td>Approved</td>\n",
       "      <td>NaN</td>\n",
       "      <td>NaN</td>\n",
       "      <td>NaN</td>\n",
       "      <td>NaN</td>\n",
       "      <td>1972.01</td>\n",
       "      <td>NaN</td>\n",
       "      <td>NaN</td>\n",
       "    </tr>\n",
       "    <tr>\n",
       "      <th>...</th>\n",
       "      <td>...</td>\n",
       "      <td>...</td>\n",
       "      <td>...</td>\n",
       "      <td>...</td>\n",
       "      <td>...</td>\n",
       "      <td>...</td>\n",
       "      <td>...</td>\n",
       "      <td>...</td>\n",
       "      <td>...</td>\n",
       "      <td>...</td>\n",
       "      <td>...</td>\n",
       "      <td>...</td>\n",
       "      <td>...</td>\n",
       "    </tr>\n",
       "    <tr>\n",
       "      <th>19340</th>\n",
       "      <td>19341</td>\n",
       "      <td>0</td>\n",
       "      <td>443</td>\n",
       "      <td>2017-12-26</td>\n",
       "      <td>1</td>\n",
       "      <td>Approved</td>\n",
       "      <td>NaN</td>\n",
       "      <td>NaN</td>\n",
       "      <td>NaN</td>\n",
       "      <td>NaN</td>\n",
       "      <td>744.54</td>\n",
       "      <td>NaN</td>\n",
       "      <td>NaN</td>\n",
       "    </tr>\n",
       "    <tr>\n",
       "      <th>19383</th>\n",
       "      <td>19384</td>\n",
       "      <td>0</td>\n",
       "      <td>2407</td>\n",
       "      <td>2017-06-11</td>\n",
       "      <td>0</td>\n",
       "      <td>Approved</td>\n",
       "      <td>NaN</td>\n",
       "      <td>NaN</td>\n",
       "      <td>NaN</td>\n",
       "      <td>NaN</td>\n",
       "      <td>1098.18</td>\n",
       "      <td>NaN</td>\n",
       "      <td>NaN</td>\n",
       "    </tr>\n",
       "    <tr>\n",
       "      <th>19793</th>\n",
       "      <td>19794</td>\n",
       "      <td>0</td>\n",
       "      <td>2860</td>\n",
       "      <td>2017-01-13</td>\n",
       "      <td>0</td>\n",
       "      <td>Approved</td>\n",
       "      <td>NaN</td>\n",
       "      <td>NaN</td>\n",
       "      <td>NaN</td>\n",
       "      <td>NaN</td>\n",
       "      <td>868.56</td>\n",
       "      <td>NaN</td>\n",
       "      <td>NaN</td>\n",
       "    </tr>\n",
       "    <tr>\n",
       "      <th>19859</th>\n",
       "      <td>19860</td>\n",
       "      <td>0</td>\n",
       "      <td>2468</td>\n",
       "      <td>2017-06-24</td>\n",
       "      <td>1</td>\n",
       "      <td>Approved</td>\n",
       "      <td>NaN</td>\n",
       "      <td>NaN</td>\n",
       "      <td>NaN</td>\n",
       "      <td>NaN</td>\n",
       "      <td>1497.43</td>\n",
       "      <td>NaN</td>\n",
       "      <td>NaN</td>\n",
       "    </tr>\n",
       "    <tr>\n",
       "      <th>19871</th>\n",
       "      <td>19872</td>\n",
       "      <td>0</td>\n",
       "      <td>61</td>\n",
       "      <td>2017-03-17</td>\n",
       "      <td>1</td>\n",
       "      <td>Approved</td>\n",
       "      <td>NaN</td>\n",
       "      <td>NaN</td>\n",
       "      <td>NaN</td>\n",
       "      <td>NaN</td>\n",
       "      <td>867.92</td>\n",
       "      <td>NaN</td>\n",
       "      <td>NaN</td>\n",
       "    </tr>\n",
       "  </tbody>\n",
       "</table>\n",
       "<p>197 rows × 13 columns</p>\n",
       "</div>"
      ],
      "text/plain": [
       "       transaction_id  product_id  customer_id transaction_date  online_order  \\\n",
       "136               137           0          431       2017-09-23             0   \n",
       "159               160           0         3300       2017-08-27             0   \n",
       "366               367           0         1614       2017-03-10             0   \n",
       "406               407           0         2559       2017-06-14             1   \n",
       "676               677           0         2609       2017-07-02             0   \n",
       "...               ...         ...          ...              ...           ...   \n",
       "19340           19341           0          443       2017-12-26             1   \n",
       "19383           19384           0         2407       2017-06-11             0   \n",
       "19793           19794           0         2860       2017-01-13             0   \n",
       "19859           19860           0         2468       2017-06-24             1   \n",
       "19871           19872           0           61       2017-03-17             1   \n",
       "\n",
       "      order_status brand product_line product_class product_size  list_price  \\\n",
       "136       Approved   NaN          NaN           NaN          NaN     1942.61   \n",
       "159       Approved   NaN          NaN           NaN          NaN     1656.86   \n",
       "366       Approved   NaN          NaN           NaN          NaN      850.89   \n",
       "406       Approved   NaN          NaN           NaN          NaN      710.59   \n",
       "676       Approved   NaN          NaN           NaN          NaN     1972.01   \n",
       "...            ...   ...          ...           ...          ...         ...   \n",
       "19340     Approved   NaN          NaN           NaN          NaN      744.54   \n",
       "19383     Approved   NaN          NaN           NaN          NaN     1098.18   \n",
       "19793     Approved   NaN          NaN           NaN          NaN      868.56   \n",
       "19859     Approved   NaN          NaN           NaN          NaN     1497.43   \n",
       "19871     Approved   NaN          NaN           NaN          NaN      867.92   \n",
       "\n",
       "       standard_cost  product_first_sold_date  \n",
       "136              NaN                      NaN  \n",
       "159              NaN                      NaN  \n",
       "366              NaN                      NaN  \n",
       "406              NaN                      NaN  \n",
       "676              NaN                      NaN  \n",
       "...              ...                      ...  \n",
       "19340            NaN                      NaN  \n",
       "19383            NaN                      NaN  \n",
       "19793            NaN                      NaN  \n",
       "19859            NaN                      NaN  \n",
       "19871            NaN                      NaN  \n",
       "\n",
       "[197 rows x 13 columns]"
      ]
     },
     "execution_count": 71,
     "metadata": {},
     "output_type": "execute_result"
    }
   ],
   "source": [
    "# Let´s check the Null values of transactions\n",
    "df_customer_trans[df_customer_trans['brand'].isnull()]"
   ]
  },
  {
   "cell_type": "code",
   "execution_count": 72,
   "id": "eb8e5771-2071-41b6-b68e-d52848424dda",
   "metadata": {},
   "outputs": [],
   "source": [
    "# Let´s drop the transactions with no brand(all brand with no values will be ignored)\n",
    "df_customer_trans.drop(df_customer_trans[df_customer_trans['brand'].isnull()].index, inplace=True)"
   ]
  },
  {
   "cell_type": "code",
   "execution_count": 73,
   "id": "1cb3ea02-6516-40d7-8d2c-33ee6504a828",
   "metadata": {},
   "outputs": [
    {
     "data": {
      "text/plain": [
       "0       2012-12-04\n",
       "1       2014-03-05\n",
       "2       1999-07-22\n",
       "3       1998-12-18\n",
       "4       2015-08-12\n",
       "           ...    \n",
       "19995   2003-07-23\n",
       "19996   1997-05-12\n",
       "19997   2010-08-22\n",
       "19998   2004-08-19\n",
       "19999   1999-06-25\n",
       "Name: product_first_sold_date, Length: 19803, dtype: datetime64[ns]"
      ]
     },
     "execution_count": 73,
     "metadata": {},
     "output_type": "execute_result"
    }
   ],
   "source": [
    "# Let´s change the format of product_first_sold_date\n",
    "df_customer_trans['product_first_sold_date'] = pd.TimedeltaIndex(df_customer_trans['product_first_sold_date'],unit = 'd') + datetime(1900,1,1)\n",
    "df_customer_trans.product_first_sold_date"
   ]
  },
  {
   "cell_type": "code",
   "execution_count": 81,
   "id": "27af1b87-5b45-44ec-bb45-c8e65ee08a4e",
   "metadata": {},
   "outputs": [
    {
     "data": {
      "text/plain": [
       "(19803, 13)"
      ]
     },
     "execution_count": 81,
     "metadata": {},
     "output_type": "execute_result"
    }
   ],
   "source": [
    "df_customer_trans.shape"
   ]
  },
  {
   "cell_type": "code",
   "execution_count": 74,
   "id": "a94b4b09-b68e-49b0-956e-c284a88b01ee",
   "metadata": {},
   "outputs": [
    {
     "data": {
      "text/plain": [
       "<AxesSubplot:>"
      ]
     },
     "execution_count": 74,
     "metadata": {},
     "output_type": "execute_result"
    },
    {
     "data": {
      "image/png": "[encoded data removed]",
      "text/plain": [
       "<Figure size 2160x720 with 2 Axes>"
      ]
     },
     "metadata": {
      "needs_background": "light"
     },
     "output_type": "display_data"
    }
   ],
   "source": [
    "# visualizing if it has null values\n",
    "missingno.matrix(df_customer_trans, figsize=(30,10))"
   ]
  },
  {
   "cell_type": "code",
   "execution_count": 75,
   "id": "06bc8d85-26b0-4148-b13c-918041df4f60",
   "metadata": {},
   "outputs": [
    {
     "data": {
      "text/plain": [
       "Solex             4253\n",
       "Giant Bicycles    3312\n",
       "WeareA2B          3295\n",
       "OHM Cycles        3043\n",
       "Trek Bicycles     2990\n",
       "Norco Bicycles    2910\n",
       "Name: brand, dtype: int64"
      ]
     },
     "execution_count": 75,
     "metadata": {},
     "output_type": "execute_result"
    }
   ],
   "source": [
    "df_customer_trans['brand'].value_counts() "
   ]
  },
  {
   "cell_type": "code",
   "execution_count": 76,
   "id": "18e08d5f-e934-4a34-a341-187f5971dfa0",
   "metadata": {},
   "outputs": [
    {
     "data": {
      "text/plain": [
       "Standard    14176\n",
       "Road         3970\n",
       "Touring      1234\n",
       "Mountain      423\n",
       "Name: product_line, dtype: int64"
      ]
     },
     "execution_count": 76,
     "metadata": {},
     "output_type": "execute_result"
    }
   ],
   "source": [
    "df_customer_trans['product_line'].value_counts()"
   ]
  },
  {
   "cell_type": "code",
   "execution_count": 77,
   "id": "92ca36a0-77d6-4d14-8e40-f00cff168c23",
   "metadata": {},
   "outputs": [
    {
     "data": {
      "text/plain": [
       "medium    12990\n",
       "large      3976\n",
       "small      2837\n",
       "Name: product_size, dtype: int64"
      ]
     },
     "execution_count": 77,
     "metadata": {},
     "output_type": "execute_result"
    }
   ],
   "source": [
    "df_customer_trans['product_size'].value_counts()"
   ]
  },
  {
   "cell_type": "code",
   "execution_count": 78,
   "id": "fbdce644-a9b7-44dc-8003-f04ee7798636",
   "metadata": {},
   "outputs": [
    {
     "data": {
      "text/plain": [
       "medium    13826\n",
       "high       3013\n",
       "low        2964\n",
       "Name: product_class, dtype: int64"
      ]
     },
     "execution_count": 78,
     "metadata": {},
     "output_type": "execute_result"
    }
   ],
   "source": [
    "df_customer_trans['product_class'].value_counts()"
   ]
  },
  {
   "cell_type": "code",
   "execution_count": 87,
   "id": "bb4fd481-24ad-4754-a59f-d1d3fd774b56",
   "metadata": {},
   "outputs": [
    {
     "data": {
      "text/plain": [
       "3494"
      ]
     },
     "execution_count": 87,
     "metadata": {},
     "output_type": "execute_result"
    }
   ],
   "source": [
    "len(df_customer_trans['customer_id'].unique())"
   ]
  },
  {
   "cell_type": "markdown",
   "id": "75bc059e-09f5-4a0a-85a7-98afe55e2e6d",
   "metadata": {},
   "source": [
    "## *Information checked from Transactions*\n",
    "- We have 1 customer(5034) not found in Customer Demographic/Address dataset(name, age, job...), so it will be ignored\n",
    "- Some column online_order has null values and it will be set with type 2-Unknown\n",
    "- Some fields as brand, product line, class and size are empty, so they will be ignored\n",
    "- The field product_first_sold_date was changed to date format"
   ]
  },
  {
   "cell_type": "markdown",
   "id": "cdebbd18-bab6-441f-a4f9-34aadb092a08",
   "metadata": {},
   "source": [
    "#### Saving the cleaned dataset"
   ]
  },
  {
   "cell_type": "code",
   "execution_count": 79,
   "id": "41398981-f086-4eb7-8c10-85335e1dbaac",
   "metadata": {},
   "outputs": [],
   "source": [
    "with pd.ExcelWriter('Files/KPMG_Sprocket_cleaned.xlsx') as f:  \n",
    "    df_customer.to_excel(f, sheet_name='Customer',index=False)\n",
    "    df_customer_trans.to_excel(f, sheet_name='Transactions',index=False)"
   ]
  },
  {
   "cell_type": "markdown",
   "id": "b82af6cc-9c8d-49aa-95ce-a61f3d20acfb",
   "metadata": {},
   "source": [
    "## Task 1 - Last step of this task is to send an e-mail with the issues that were found in the dataset\n",
    "### Draft an email to the client identifying the data quality issues and strategies to mitigate these issues. Refer to ‘Data Quality Framework Table’ and resources below for criteria and dimensions which you should consider.\n"
   ]
  },
  {
   "cell_type": "code",
   "execution_count": 80,
   "id": "766b4afc-3545-468c-a2c3-d010c352480c",
   "metadata": {},
   "outputs": [
    {
     "data": {
      "text/html": [
       "\n",
       "        <iframe\n",
       "            width=\"900\"\n",
       "            height=\"500\"\n",
       "            src=\"Files/Task1-answer.pdf\"\n",
       "            frameborder=\"0\"\n",
       "            allowfullscreen\n",
       "        ></iframe>\n",
       "        "
      ],
      "text/plain": [
       "<IPython.lib.display.IFrame at 0x28d536bb708>"
      ]
     },
     "execution_count": 80,
     "metadata": {},
     "output_type": "execute_result"
    }
   ],
   "source": [
    "from IPython.display import IFrame\n",
    "IFrame(\"Files/Task1-answer.pdf\", width=900, height=500)\n"
   ]
  }
 ],
 "metadata": {
  "kernelspec": {
   "display_name": "Python 3",
   "language": "python",
   "name": "python3"
  },
  "language_info": {
   "codemirror_mode": {
    "name": "ipython",
    "version": 3
   },
   "file_extension": ".py",
   "mimetype": "text/x-python",
   "name": "python",
   "nbconvert_exporter": "python",
   "pygments_lexer": "ipython3",
   "version": "3.7.10"
  }
 },
 "nbformat": 4,
 "nbformat_minor": 5
}
